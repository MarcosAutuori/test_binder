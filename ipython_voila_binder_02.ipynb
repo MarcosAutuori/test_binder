{
  "nbformat": 4,
  "nbformat_minor": 0,
  "metadata": {
    "colab": {
      "provenance": [],
      "authorship_tag": "ABX9TyODN+Jb0nTBT8p+K0xj42uC",
      "include_colab_link": true
    },
    "kernelspec": {
      "name": "python3",
      "display_name": "Python 3"
    },
    "language_info": {
      "name": "python"
    }
  },
  "cells": [
    {
      "cell_type": "markdown",
      "metadata": {
        "id": "view-in-github",
        "colab_type": "text"
      },
      "source": [
        "<a href=\"https://colab.research.google.com/github/MarcosAutuori/test_binder/blob/main/ipython_voila_binder_02.ipynb\" target=\"_parent\"><img src=\"https://colab.research.google.com/assets/colab-badge.svg\" alt=\"Open In Colab\"/></a>"
      ]
    },
    {
      "cell_type": "code",
      "execution_count": 1,
      "metadata": {
        "colab": {
          "base_uri": "https://localhost:8080/"
        },
        "id": "2NtFirT3mZYn",
        "outputId": "ff6b6060-be3e-45bc-dd69-4dda0a9349c9"
      },
      "outputs": [
        {
          "output_type": "stream",
          "name": "stdout",
          "text": [
            "Escreva sua frase.   >>>>   \n",
            "Sua frase: \n"
          ]
        }
      ],
      "source": [
        "texto = input('Escreva sua frase.   >>>>   ')\n",
        "print('Sua frase: '+texto)"
      ]
    }
  ]
}